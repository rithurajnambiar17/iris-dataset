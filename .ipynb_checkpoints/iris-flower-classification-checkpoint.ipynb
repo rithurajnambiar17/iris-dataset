{
 "cells": [
  {
   "cell_type": "code",
   "execution_count": 1,
   "metadata": {},
   "outputs": [],
   "source": [
    "#Importing Libraries\n",
    "import pandas as pd\n",
    "import numpy as np\n",
    "import matplotlib.pyplot as plt\n",
    "from sklearn.datasets import load_iris\n",
    "\n",
    "#Ignore Warnings\n",
    "import warnings\n",
    "warnings.filterwarnings('ignore')"
   ]
  },
  {
   "cell_type": "code",
   "execution_count": 2,
   "metadata": {},
   "outputs": [
    {
     "data": {
      "text/plain": [
       "dict_keys(['data', 'target', 'frame', 'target_names', 'DESCR', 'feature_names', 'filename'])"
      ]
     },
     "execution_count": 2,
     "metadata": {},
     "output_type": "execute_result"
    }
   ],
   "source": [
    "iris = load_iris()\n",
    "iris.keys()"
   ]
  },
  {
   "cell_type": "code",
   "execution_count": 3,
   "metadata": {},
   "outputs": [
    {
     "data": {
      "text/plain": [
       "array([0, 0, 0, 0, 0, 0, 0, 0, 0, 0, 0, 0, 0, 0, 0, 0, 0, 0, 0, 0, 0, 0,\n",
       "       0, 0, 0, 0, 0, 0, 0, 0, 0, 0, 0, 0, 0, 0, 0, 0, 0, 0, 0, 0, 0, 0,\n",
       "       0, 0, 0, 0, 0, 0, 1, 1, 1, 1, 1, 1, 1, 1, 1, 1, 1, 1, 1, 1, 1, 1,\n",
       "       1, 1, 1, 1, 1, 1, 1, 1, 1, 1, 1, 1, 1, 1, 1, 1, 1, 1, 1, 1, 1, 1,\n",
       "       1, 1, 1, 1, 1, 1, 1, 1, 1, 1, 1, 1, 2, 2, 2, 2, 2, 2, 2, 2, 2, 2,\n",
       "       2, 2, 2, 2, 2, 2, 2, 2, 2, 2, 2, 2, 2, 2, 2, 2, 2, 2, 2, 2, 2, 2,\n",
       "       2, 2, 2, 2, 2, 2, 2, 2, 2, 2, 2, 2, 2, 2, 2, 2, 2, 2])"
      ]
     },
     "execution_count": 3,
     "metadata": {},
     "output_type": "execute_result"
    }
   ],
   "source": [
    "iris.target"
   ]
  },
  {
   "cell_type": "code",
   "execution_count": 4,
   "metadata": {},
   "outputs": [
    {
     "data": {
      "text/plain": [
       "array(['setosa', 'versicolor', 'virginica'], dtype='<U10')"
      ]
     },
     "execution_count": 4,
     "metadata": {},
     "output_type": "execute_result"
    }
   ],
   "source": [
    "iris.target_names"
   ]
  },
  {
   "cell_type": "code",
   "execution_count": 5,
   "metadata": {},
   "outputs": [
    {
     "data": {
      "text/plain": [
       "['sepal length (cm)',\n",
       " 'sepal width (cm)',\n",
       " 'petal length (cm)',\n",
       " 'petal width (cm)']"
      ]
     },
     "execution_count": 5,
     "metadata": {},
     "output_type": "execute_result"
    }
   ],
   "source": [
    "iris.feature_names"
   ]
  },
  {
   "cell_type": "code",
   "execution_count": 6,
   "metadata": {},
   "outputs": [
    {
     "data": {
      "text/plain": [
       "array([5.1, 3.5, 1.4, 0.2])"
      ]
     },
     "execution_count": 6,
     "metadata": {},
     "output_type": "execute_result"
    }
   ],
   "source": [
    "iris[\"data\"][0]"
   ]
  },
  {
   "cell_type": "code",
   "execution_count": 7,
   "metadata": {},
   "outputs": [
    {
     "data": {
      "text/plain": [
       "0"
      ]
     },
     "execution_count": 7,
     "metadata": {},
     "output_type": "execute_result"
    }
   ],
   "source": [
    "iris[\"target\"][0]"
   ]
  },
  {
   "cell_type": "code",
   "execution_count": 8,
   "metadata": {},
   "outputs": [],
   "source": [
    "X = iris[\"data\"][:, 2:] #petal width and petal length\n",
    "y = (iris[\"target\"] == 2).astype(np.int) #1 for virginica and 0 for non-virginica"
   ]
  },
  {
   "cell_type": "code",
   "execution_count": 9,
   "metadata": {},
   "outputs": [
    {
     "data": {
      "text/plain": [
       "array([[1.4, 0.2],\n",
       "       [1.4, 0.2],\n",
       "       [1.3, 0.2],\n",
       "       [1.5, 0.2],\n",
       "       [1.4, 0.2]])"
      ]
     },
     "execution_count": 9,
     "metadata": {},
     "output_type": "execute_result"
    }
   ],
   "source": [
    "X[0:5]"
   ]
  },
  {
   "cell_type": "code",
   "execution_count": 10,
   "metadata": {},
   "outputs": [
    {
     "data": {
      "text/plain": [
       "array([0, 0, 0, 0, 0])"
      ]
     },
     "execution_count": 10,
     "metadata": {},
     "output_type": "execute_result"
    }
   ],
   "source": [
    "y[0:5]"
   ]
  },
  {
   "cell_type": "code",
   "execution_count": 11,
   "metadata": {},
   "outputs": [
    {
     "name": "stdout",
     "output_type": "stream",
     "text": [
      "X Shape is : (150, 2)\n",
      "Y Shape is : (150,)\n"
     ]
    }
   ],
   "source": [
    "print(f'''X Shape is : {X.shape}\n",
    "Y Shape is : {y.shape}''')"
   ]
  },
  {
   "cell_type": "code",
   "execution_count": 12,
   "metadata": {},
   "outputs": [],
   "source": [
    "b0 = 0\n",
    "b1 = 0\n",
    "b2 = 0"
   ]
  },
  {
   "cell_type": "code",
   "execution_count": 13,
   "metadata": {},
   "outputs": [
    {
     "data": {
      "text/plain": [
       "0.5"
      ]
     },
     "execution_count": 13,
     "metadata": {},
     "output_type": "execute_result"
    }
   ],
   "source": [
    "pred0 = 1 / (1 + np.exp(-(b0 + b1 * X[0][0] + b2 * X[0][1])))\n",
    "pred0"
   ]
  },
  {
   "cell_type": "code",
   "execution_count": 14,
   "metadata": {},
   "outputs": [
    {
     "data": {
      "text/plain": [
       "0.5"
      ]
     },
     "execution_count": 14,
     "metadata": {},
     "output_type": "execute_result"
    }
   ],
   "source": [
    "pred1 = 1 / (1 + np.exp(-(b0 + b1 * X[149][0] + b2 * X[149][1])))\n",
    "pred1"
   ]
  },
  {
   "cell_type": "code",
   "execution_count": 48,
   "metadata": {},
   "outputs": [],
   "source": [
    "def predict(X):\n",
    "    global predict1 = []\n",
    "    for i in range(0, 150):\n",
    "        x0 = X[i][0]\n",
    "        x1 = X[i][1]\n",
    "        temp = 1 / (1 + np.exp(-(b0 + b1 * x0 + b2 * x1)))\n",
    "        predict1.append(temp)\n",
    "    return predict1"
   ]
  },
  {
   "cell_type": "markdown",
   "metadata": {},
   "source": [
    "For better predictions, we have to update `b` <br>\n",
    "`b = b + alpha * (y - prediction) * prediction * (1 - prediction) * x`"
   ]
  },
  {
   "cell_type": "code",
   "execution_count": 16,
   "metadata": {},
   "outputs": [],
   "source": [
    "alpha = 0.3"
   ]
  },
  {
   "cell_type": "code",
   "execution_count": 21,
   "metadata": {},
   "outputs": [],
   "source": [
    "b0 = 0\n",
    "b1 = 0\n",
    "b2 = 0\n",
    "for i in range(0,150):\n",
    "    x0 = X[i][0]\n",
    "    x1 = X[i][1]\n",
    "    pred = 1 / (1 + np.exp(-(b0 + b1 * x0 + b2 * x1)))\n",
    "    b0 = b0 + alpha * (y - pred) * pred * (1 - pred) * 1\n",
    "    b1 = b1 + alpha * (y - pred) * (1 - pred) * X[i][1]\n",
    "    b2 = b2 + alpha * (y - pred) * (1 - pred) * X[i][0]"
   ]
  },
  {
   "cell_type": "code",
   "execution_count": 26,
   "metadata": {},
   "outputs": [],
   "source": [
    "b0 = 0.80480623\n",
    "b1 = 0.27343391\n",
    "b2 = 1.74869321\n",
    "predict(X)"
   ]
  },
  {
   "cell_type": "code",
   "execution_count": 49,
   "metadata": {},
   "outputs": [
    {
     "data": {
      "text/plain": [
       "[0.8230795045589951,\n",
       " 0.8230795045589951,\n",
       " 0.8190625339745851,\n",
       " 0.8270261284224667,\n",
       " 0.8230795045589951,\n",
       " 0.8775166858837384,\n",
       " 0.847124222655826,\n",
       " 0.8270261284224667,\n",
       " 0.8230795045589951,\n",
       " 0.8005645300086307,\n",
       " 0.8270261284224667,\n",
       " 0.8309028007043009,\n",
       " 0.7961629579837108,\n",
       " 0.782526851992424,\n",
       " 0.8149748608441906,\n",
       " 0.8715165081480333,\n",
       " 0.8652675257111819,\n",
       " 0.847124222655826,\n",
       " 0.8574477738265782,\n",
       " 0.8506318113260526,\n",
       " 0.8347099540275639,\n",
       " 0.8715165081480333,\n",
       " 0.8065861912228369,\n",
       " 0.8951058733800296,\n",
       " 0.8421176107893074,\n",
       " 0.8309028007043009,\n",
       " 0.8745473201933023,\n",
       " 0.8270261284224667,\n",
       " 0.8230795045589951,\n",
       " 0.8309028007043009,\n",
       " 0.8309028007043009,\n",
       " 0.8715165081480333,\n",
       " 0.8005645300086307,\n",
       " 0.8230795045589951,\n",
       " 0.8270261284224667,\n",
       " 0.8149748608441906,\n",
       " 0.8190625339745851,\n",
       " 0.7961629579837108,\n",
       " 0.8190625339745851,\n",
       " 0.8270261284224667,\n",
       " 0.8435494152332876,\n",
       " 0.8435494152332876,\n",
       " 0.8190625339745851,\n",
       " 0.9081719904960968,\n",
       " 0.8832741848312181,\n",
       " 0.847124222655826,\n",
       " 0.8309028007043009,\n",
       " 0.8230795045589951,\n",
       " 0.8270261284224667,\n",
       " 0.8230795045589951,\n",
       " 0.9894196086397757,\n",
       " 0.9906064927317763,\n",
       " 0.9915714997151629,\n",
       " 0.9848104731608872,\n",
       " 0.9908575468543824,\n",
       " 0.9867256704650729,\n",
       " 0.9925188148168812,\n",
       " 0.969404568717038,\n",
       " 0.9870790919178803,\n",
       " 0.9868665054304553,\n",
       " 0.9709855646535621,\n",
       " 0.9898116369421786,\n",
       " 0.9745989385803527,\n",
       " 0.9894196086397757,\n",
       " 0.9830845791982168,\n",
       " 0.9885254849261892,\n",
       " 0.9906064927317763,\n",
       " 0.9752671344917596,\n",
       " 0.9906064927317763,\n",
       " 0.9780063203695132,\n",
       " 0.9948568686798144,\n",
       " 0.9848104731608872,\n",
       " 0.9915714997151629,\n",
       " 0.9850558358361635,\n",
       " 0.9859899773977738,\n",
       " 0.9885254849261892,\n",
       " 0.9897020540774245,\n",
       " 0.9942038838544919,\n",
       " 0.9906064927317763,\n",
       " 0.9709855646535621,\n",
       " 0.9774104136255575,\n",
       " 0.9724871824608784,\n",
       " 0.9814694530017903,\n",
       " 0.9932886974866061,\n",
       " 0.9906064927317763,\n",
       " 0.9921016207412777,\n",
       " 0.9911019514876274,\n",
       " 0.9863627155463063,\n",
       " 0.9852141215595384,\n",
       " 0.9848104731608872,\n",
       " 0.9837989784325173,\n",
       " 0.9891295015573759,\n",
       " 0.9819602597344614,\n",
       " 0.969404568717038,\n",
       " 0.9856072001218958,\n",
       " 0.9829038918989802,\n",
       " 0.9856072001218958,\n",
       " 0.9859899773977738,\n",
       " 0.9720413168231664,\n",
       " 0.9852141215595384,\n",
       " 0.9989063526332783,\n",
       " 0.9960174254466716,\n",
       " 0.9977404377043775,\n",
       " 0.9958631857761228,\n",
       " 0.9980497547001136,\n",
       " 0.99813332069747,\n",
       " 0.9933603700821968,\n",
       " 0.9965813588760037,\n",
       " 0.9960824777411518,\n",
       " 0.9989358201309707,\n",
       " 0.9966542251749705,\n",
       " 0.9962285721516639,\n",
       " 0.9974799378595192,\n",
       " 0.9965617969979279,\n",
       " 0.9983348655321597,\n",
       " 0.9981226226034161,\n",
       " 0.995748998072254,\n",
       " 0.9984745488929935,\n",
       " 0.9987870601863542,\n",
       " 0.991796976298798,\n",
       " 0.9983167999710167,\n",
       " 0.9964668245125488,\n",
       " 0.9978372288944176,\n",
       " 0.9949948997413873,\n",
       " 0.9976137313761434,\n",
       " 0.9962901883729974,\n",
       " 0.9948568686798144,\n",
       " 0.9949948997413873,\n",
       " 0.997547744667614,\n",
       " 0.9944513252847992,\n",
       " 0.9969673166921601,\n",
       " 0.9976527706875091,\n",
       " 0.9979403577046153,\n",
       " 0.9920164695689357,\n",
       " 0.9917085682516483,\n",
       " 0.9984909239153437,\n",
       " 0.9985473322043387,\n",
       " 0.995748998072254,\n",
       " 0.9948568686798144,\n",
       " 0.997410261006782,\n",
       " 0.9985473322043387,\n",
       " 0.9980173049376789,\n",
       " 0.9960174254466716,\n",
       " 0.9984062343333678,\n",
       " 0.9988129692734555,\n",
       " 0.9980706808834258,\n",
       " 0.9959074776952973,\n",
       " 0.9967441767508491,\n",
       " 0.9981731684920797,\n",
       " 0.9952600003545242]"
      ]
     },
     "execution_count": 49,
     "metadata": {},
     "output_type": "execute_result"
    }
   ],
   "source": [
    "predict(X)"
   ]
  },
  {
   "cell_type": "code",
   "execution_count": 50,
   "metadata": {},
   "outputs": [
    {
     "ename": "NameError",
     "evalue": "name 'predict1' is not defined",
     "output_type": "error",
     "traceback": [
      "\u001b[1;31m---------------------------------------------------------------------------\u001b[0m",
      "\u001b[1;31mNameError\u001b[0m                                 Traceback (most recent call last)",
      "\u001b[1;32m<ipython-input-50-b476ebe815fe>\u001b[0m in \u001b[0;36m<module>\u001b[1;34m\u001b[0m\n\u001b[1;32m----> 1\u001b[1;33m \u001b[0mpredict1\u001b[0m\u001b[1;33m\u001b[0m\u001b[1;33m\u001b[0m\u001b[0m\n\u001b[0m",
      "\u001b[1;31mNameError\u001b[0m: name 'predict1' is not defined"
     ]
    }
   ],
   "source": [
    "predict1"
   ]
  },
  {
   "cell_type": "code",
   "execution_count": null,
   "metadata": {},
   "outputs": [],
   "source": []
  }
 ],
 "metadata": {
  "kernelspec": {
   "display_name": "Python 3",
   "language": "python",
   "name": "python3"
  },
  "language_info": {
   "codemirror_mode": {
    "name": "ipython",
    "version": 3
   },
   "file_extension": ".py",
   "mimetype": "text/x-python",
   "name": "python",
   "nbconvert_exporter": "python",
   "pygments_lexer": "ipython3",
   "version": "3.8.5"
  }
 },
 "nbformat": 4,
 "nbformat_minor": 4
}
