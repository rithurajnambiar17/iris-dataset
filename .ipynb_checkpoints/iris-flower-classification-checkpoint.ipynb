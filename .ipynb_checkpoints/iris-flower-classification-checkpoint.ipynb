{
 "cells": [
  {
   "cell_type": "code",
   "execution_count": 1,
   "metadata": {},
   "outputs": [],
   "source": [
    "#Importing Libraries\n",
    "import pandas as pd\n",
    "import numpy as np\n",
    "import matplotlib.pyplot as plt\n",
    "from sklearn.datasets import load_iris\n",
    "from sklearn.model_selection import train_test_split\n",
    "\n",
    "#Ignore Warnings\n",
    "import warnings\n",
    "warnings.filterwarnings('ignore')"
   ]
  },
  {
   "cell_type": "code",
   "execution_count": 2,
   "metadata": {},
   "outputs": [
    {
     "data": {
      "text/plain": [
       "dict_keys(['data', 'target', 'frame', 'target_names', 'DESCR', 'feature_names', 'filename'])"
      ]
     },
     "execution_count": 2,
     "metadata": {},
     "output_type": "execute_result"
    }
   ],
   "source": [
    "#Loading our data\n",
    "iris = load_iris()\n",
    "iris.keys()"
   ]
  },
  {
   "cell_type": "code",
   "execution_count": 3,
   "metadata": {},
   "outputs": [
    {
     "data": {
      "text/plain": [
       "array([0, 0, 0, 0, 0, 0, 0, 0, 0, 0, 0, 0, 0, 0, 0, 0, 0, 0, 0, 0, 0, 0,\n",
       "       0, 0, 0, 0, 0, 0, 0, 0, 0, 0, 0, 0, 0, 0, 0, 0, 0, 0, 0, 0, 0, 0,\n",
       "       0, 0, 0, 0, 0, 0, 1, 1, 1, 1, 1, 1, 1, 1, 1, 1, 1, 1, 1, 1, 1, 1,\n",
       "       1, 1, 1, 1, 1, 1, 1, 1, 1, 1, 1, 1, 1, 1, 1, 1, 1, 1, 1, 1, 1, 1,\n",
       "       1, 1, 1, 1, 1, 1, 1, 1, 1, 1, 1, 1, 2, 2, 2, 2, 2, 2, 2, 2, 2, 2,\n",
       "       2, 2, 2, 2, 2, 2, 2, 2, 2, 2, 2, 2, 2, 2, 2, 2, 2, 2, 2, 2, 2, 2,\n",
       "       2, 2, 2, 2, 2, 2, 2, 2, 2, 2, 2, 2, 2, 2, 2, 2, 2, 2])"
      ]
     },
     "execution_count": 3,
     "metadata": {},
     "output_type": "execute_result"
    }
   ],
   "source": [
    "#Checking out target variables\n",
    "iris.target"
   ]
  },
  {
   "cell_type": "code",
   "execution_count": 4,
   "metadata": {},
   "outputs": [
    {
     "data": {
      "text/plain": [
       "array(['setosa', 'versicolor', 'virginica'], dtype='<U10')"
      ]
     },
     "execution_count": 4,
     "metadata": {},
     "output_type": "execute_result"
    }
   ],
   "source": [
    "#Respective target names\n",
    "iris.target_names"
   ]
  },
  {
   "cell_type": "code",
   "execution_count": 5,
   "metadata": {},
   "outputs": [
    {
     "data": {
      "text/plain": [
       "['sepal length (cm)',\n",
       " 'sepal width (cm)',\n",
       " 'petal length (cm)',\n",
       " 'petal width (cm)']"
      ]
     },
     "execution_count": 5,
     "metadata": {},
     "output_type": "execute_result"
    }
   ],
   "source": [
    "#Respective feature names\n",
    "iris.feature_names"
   ]
  },
  {
   "cell_type": "code",
   "execution_count": 6,
   "metadata": {},
   "outputs": [
    {
     "data": {
      "text/plain": [
       "array([5.1, 3.5, 1.4, 0.2])"
      ]
     },
     "execution_count": 6,
     "metadata": {},
     "output_type": "execute_result"
    }
   ],
   "source": [
    "#Having a closer look on the feature\n",
    "iris[\"data\"][0]"
   ]
  },
  {
   "cell_type": "code",
   "execution_count": 7,
   "metadata": {},
   "outputs": [
    {
     "data": {
      "text/plain": [
       "0"
      ]
     },
     "execution_count": 7,
     "metadata": {},
     "output_type": "execute_result"
    }
   ],
   "source": [
    "#Closer look on the target variable\n",
    "iris[\"target\"][0]"
   ]
  },
  {
   "cell_type": "code",
   "execution_count": 8,
   "metadata": {},
   "outputs": [],
   "source": [
    "#Seperating our feature variable and converting target variable to binary form\n",
    "x = iris[\"data\"][:, 2:] #Petal Length & width\n",
    "y = (iris[\"target\"] == 2).astype(np.int) #1 for virginica and 0 for non-virginica"
   ]
  },
  {
   "cell_type": "code",
   "execution_count": 9,
   "metadata": {},
   "outputs": [
    {
     "name": "stdout",
     "output_type": "stream",
     "text": [
      "x Shape is : (150, 2)\n",
      "Y Shape is : (150,)\n"
     ]
    }
   ],
   "source": [
    "print(f'''x Shape is : {x.shape}\n",
    "Y Shape is : {y.shape}''')"
   ]
  },
  {
   "cell_type": "code",
   "execution_count": 10,
   "metadata": {},
   "outputs": [
    {
     "data": {
      "text/html": [
       "<div>\n",
       "<style scoped>\n",
       "    .dataframe tbody tr th:only-of-type {\n",
       "        vertical-align: middle;\n",
       "    }\n",
       "\n",
       "    .dataframe tbody tr th {\n",
       "        vertical-align: top;\n",
       "    }\n",
       "\n",
       "    .dataframe thead th {\n",
       "        text-align: right;\n",
       "    }\n",
       "</style>\n",
       "<table border=\"1\" class=\"dataframe\">\n",
       "  <thead>\n",
       "    <tr style=\"text-align: right;\">\n",
       "      <th></th>\n",
       "      <th>Petal Length</th>\n",
       "      <th>Petal Width</th>\n",
       "      <th>Virginica</th>\n",
       "    </tr>\n",
       "  </thead>\n",
       "  <tbody>\n",
       "    <tr>\n",
       "      <th>0</th>\n",
       "      <td>1.4</td>\n",
       "      <td>0.2</td>\n",
       "      <td>0</td>\n",
       "    </tr>\n",
       "    <tr>\n",
       "      <th>1</th>\n",
       "      <td>1.4</td>\n",
       "      <td>0.2</td>\n",
       "      <td>0</td>\n",
       "    </tr>\n",
       "    <tr>\n",
       "      <th>2</th>\n",
       "      <td>1.3</td>\n",
       "      <td>0.2</td>\n",
       "      <td>0</td>\n",
       "    </tr>\n",
       "    <tr>\n",
       "      <th>3</th>\n",
       "      <td>1.5</td>\n",
       "      <td>0.2</td>\n",
       "      <td>0</td>\n",
       "    </tr>\n",
       "    <tr>\n",
       "      <th>4</th>\n",
       "      <td>1.4</td>\n",
       "      <td>0.2</td>\n",
       "      <td>0</td>\n",
       "    </tr>\n",
       "    <tr>\n",
       "      <th>...</th>\n",
       "      <td>...</td>\n",
       "      <td>...</td>\n",
       "      <td>...</td>\n",
       "    </tr>\n",
       "    <tr>\n",
       "      <th>145</th>\n",
       "      <td>5.2</td>\n",
       "      <td>2.3</td>\n",
       "      <td>1</td>\n",
       "    </tr>\n",
       "    <tr>\n",
       "      <th>146</th>\n",
       "      <td>5.0</td>\n",
       "      <td>1.9</td>\n",
       "      <td>1</td>\n",
       "    </tr>\n",
       "    <tr>\n",
       "      <th>147</th>\n",
       "      <td>5.2</td>\n",
       "      <td>2.0</td>\n",
       "      <td>1</td>\n",
       "    </tr>\n",
       "    <tr>\n",
       "      <th>148</th>\n",
       "      <td>5.4</td>\n",
       "      <td>2.3</td>\n",
       "      <td>1</td>\n",
       "    </tr>\n",
       "    <tr>\n",
       "      <th>149</th>\n",
       "      <td>5.1</td>\n",
       "      <td>1.8</td>\n",
       "      <td>1</td>\n",
       "    </tr>\n",
       "  </tbody>\n",
       "</table>\n",
       "<p>150 rows × 3 columns</p>\n",
       "</div>"
      ],
      "text/plain": [
       "     Petal Length  Petal Width  Virginica\n",
       "0             1.4          0.2          0\n",
       "1             1.4          0.2          0\n",
       "2             1.3          0.2          0\n",
       "3             1.5          0.2          0\n",
       "4             1.4          0.2          0\n",
       "..            ...          ...        ...\n",
       "145           5.2          2.3          1\n",
       "146           5.0          1.9          1\n",
       "147           5.2          2.0          1\n",
       "148           5.4          2.3          1\n",
       "149           5.1          1.8          1\n",
       "\n",
       "[150 rows x 3 columns]"
      ]
     },
     "execution_count": 10,
     "metadata": {},
     "output_type": "execute_result"
    }
   ],
   "source": [
    "data = pd.DataFrame(x, columns = [\"Petal Length\", \"Petal Width\"])\n",
    "data[\"Virginica\"] = y\n",
    "data"
   ]
  },
  {
   "cell_type": "code",
   "execution_count": 11,
   "metadata": {},
   "outputs": [],
   "source": [
    "X = data.drop(columns = [\"Virginica\"])\n",
    "y = data[\"Virginica\"]\n",
    "X_train, X_test, y_train, y_test = train_test_split(X, y, shuffle = True, random_state = 42)"
   ]
  },
  {
   "cell_type": "code",
   "execution_count": 12,
   "metadata": {},
   "outputs": [
    {
     "name": "stdout",
     "output_type": "stream",
     "text": [
      "X_train Shape is : (112, 2)\n",
      "X_test Shape is : (38, 2)\n",
      "y_train Shape is : (112,)\n",
      "y_test Shape is : (38,)\n"
     ]
    }
   ],
   "source": [
    "print(f'''X_train Shape is : {X_train.shape}\n",
    "X_test Shape is : {X_test.shape}\n",
    "y_train Shape is : {y_train.shape}\n",
    "y_test Shape is : {y_test.shape}''')"
   ]
  },
  {
   "cell_type": "code",
   "execution_count": 13,
   "metadata": {},
   "outputs": [
    {
     "data": {
      "text/plain": [
       "0.2"
      ]
     },
     "execution_count": 13,
     "metadata": {},
     "output_type": "execute_result"
    }
   ],
   "source": [
    "np.array(X_train)[0][1]"
   ]
  },
  {
   "cell_type": "code",
   "execution_count": 14,
   "metadata": {},
   "outputs": [],
   "source": [
    "def logistic(X, y, alpha = 0.2, epoch = 2):\n",
    "    X = np.array(X)\n",
    "    y = np.array(y)\n",
    "    b0_list, b1_list, b2_list = [], [], []\n",
    "    global b0, b1, b2, pred\n",
    "    b0, b1, b2 = 0, 0, 0\n",
    "    for j in range(1, epoch+1):\n",
    "        print(f\"Epoch : {j}/{epoch}\\n\")\n",
    "        for i in range(0, len(X)):\n",
    "            pred = 1/(1+np.exp(-(b0+ b1 * x[i][0] + b2 * x[i][0])))\n",
    "            b0 = b0 + alpha * (y[i] - pred) * pred * (1 - pred)\n",
    "            b1 = b1 + alpha * (y[i] - pred) * pred * (1 - pred) * x[i][0]\n",
    "            b2 = b2 + alpha * (y[i] - pred) * pred * (1 - pred) * x[i][1]\n",
    "            b0_list.append(b0)\n",
    "            b1_list.append(b1)\n",
    "            b2_list.append(b2)\n",
    "        print(f\"Epoch {j} Completed\")\n",
    "        print(f\"b0 : {b0}\\nb1 : {b1}\\nb2 : {b2}\\n\")"
   ]
  },
  {
   "cell_type": "code",
   "execution_count": 15,
   "metadata": {},
   "outputs": [],
   "source": [
    "def predict(x, b0, b1, b2):\n",
    "    global pred_list\n",
    "    x = np.array(x)\n",
    "    pred_list = []\n",
    "    for i in range(0, len(x)):\n",
    "        temp = 1/(1+np.exp(-(b0 + b1 * x[i][0] + b2 * x[i][1])))\n",
    "        pred_list.append(temp)\n",
    "    return pred_list"
   ]
  },
  {
   "cell_type": "code",
   "execution_count": 16,
   "metadata": {},
   "outputs": [],
   "source": [
    "def crisp_logistic():\n",
    "    for i in range(0, len(pred_list)):\n",
    "        if pred_list[i] >= 0.5:\n",
    "            pred_list[i] = 1\n",
    "        elif pred_list[i] < 0.5:\n",
    "            pred_list[i] = 0\n",
    "    return np.array(pred_list)"
   ]
  },
  {
   "cell_type": "code",
   "execution_count": 17,
   "metadata": {},
   "outputs": [],
   "source": [
    "def pred_score(y_true, y_pred):\n",
    "    true = 0\n",
    "    y_true = np.array(y_true)\n",
    "    for i in range(0, len(y_true)):\n",
    "        if y_pred[i] == y_true[i]:\n",
    "            true+=1\n",
    "        else:\n",
    "            continue\n",
    "    accuracy = (true/len(y_pred))*100\n",
    "    return accuracy"
   ]
  },
  {
   "cell_type": "code",
   "execution_count": 18,
   "metadata": {},
   "outputs": [
    {
     "name": "stdout",
     "output_type": "stream",
     "text": [
      "Epoch : 1/35\n",
      "\n",
      "Epoch 1 Completed\n",
      "b0 : -0.11935819890152491\n",
      "b1 : -0.07800558203156632\n",
      "b2 : -0.007057497893886135\n",
      "\n",
      "Epoch : 2/35\n",
      "\n",
      "Epoch 2 Completed\n",
      "b0 : -0.1800855754681378\n",
      "b1 : -0.07378091255680863\n",
      "b2 : -0.0008280636209642908\n",
      "\n",
      "Epoch : 3/35\n",
      "\n",
      "Epoch 3 Completed\n",
      "b0 : -0.2334011763126202\n",
      "b1 : -0.0690698389677023\n",
      "b2 : 0.003632342571650231\n",
      "\n",
      "Epoch : 4/35\n",
      "\n",
      "Epoch 4 Completed\n",
      "b0 : -0.28021466233518516\n",
      "b1 : -0.06391338658204573\n",
      "b2 : 0.006523400574195176\n",
      "\n",
      "Epoch : 5/35\n",
      "\n",
      "Epoch 5 Completed\n",
      "b0 : -0.3213238666498568\n",
      "b1 : -0.05835330508401956\n",
      "b2 : 0.008025932517002773\n",
      "\n",
      "Epoch : 6/35\n",
      "\n",
      "Epoch 6 Completed\n",
      "b0 : -0.3574290289288772\n",
      "b1 : -0.05243022439802983\n",
      "b2 : 0.008302384692990175\n",
      "\n",
      "Epoch : 7/35\n",
      "\n",
      "Epoch 7 Completed\n",
      "b0 : -0.3891445970119223\n",
      "b1 : -0.046182498510379894\n",
      "b2 : 0.0074978098522524295\n",
      "\n",
      "Epoch : 8/35\n",
      "\n",
      "Epoch 8 Completed\n",
      "b0 : -0.417009472962672\n",
      "b1 : -0.039645617301922814\n",
      "b2 : 0.005741125765166777\n",
      "\n",
      "Epoch : 9/35\n",
      "\n",
      "Epoch 9 Completed\n",
      "b0 : -0.4414960725959069\n",
      "b1 : -0.03285197255333361\n",
      "b2 : 0.0031465052506899974\n",
      "\n",
      "Epoch : 10/35\n",
      "\n",
      "Epoch 10 Completed\n",
      "b0 : -0.46301838175584087\n",
      "b1 : -0.025830841529185133\n",
      "b2 : -0.00018520333479140477\n",
      "\n",
      "Epoch : 11/35\n",
      "\n",
      "Epoch 11 Completed\n",
      "b0 : -0.48193911510260307\n",
      "b1 : -0.018608500294034963\n",
      "b2 : -0.004165091700707592\n",
      "\n",
      "Epoch : 12/35\n",
      "\n",
      "Epoch 12 Completed\n",
      "b0 : -0.4985760563582226\n",
      "b1 : -0.011208409815351567\n",
      "b2 : -0.008714884251112623\n",
      "\n",
      "Epoch : 13/35\n",
      "\n",
      "Epoch 13 Completed\n",
      "b0 : -0.5132076520822569\n",
      "b1 : -0.0036514380421213966\n",
      "b2 : -0.013765730225308415\n",
      "\n",
      "Epoch : 14/35\n",
      "\n",
      "Epoch 14 Completed\n",
      "b0 : -0.526077929824571\n",
      "b1 : 0.004043905475001719\n",
      "b2 : -0.019257105063305302\n",
      "\n",
      "Epoch : 15/35\n",
      "\n",
      "Epoch 15 Completed\n",
      "b0 : -0.5374008103532831\n",
      "b1 : 0.011861236916383605\n",
      "b2 : -0.025135822281485302\n",
      "\n",
      "Epoch : 16/35\n",
      "\n",
      "Epoch 16 Completed\n",
      "b0 : -0.547363880998375\n",
      "b1 : 0.019786076028898633\n",
      "b2 : -0.03135515190966268\n",
      "\n",
      "Epoch : 17/35\n",
      "\n",
      "Epoch 17 Completed\n",
      "b0 : -0.5561316929996047\n",
      "b1 : 0.027805639110888014\n",
      "b2 : -0.03787403855540995\n",
      "\n",
      "Epoch : 18/35\n",
      "\n",
      "Epoch 18 Completed\n",
      "b0 : -0.5638486405993722\n",
      "b1 : 0.03590864927771084\n",
      "b2 : -0.044656410695039644\n",
      "\n",
      "Epoch : 19/35\n",
      "\n",
      "Epoch 19 Completed\n",
      "b0 : -0.5706414740084975\n",
      "b1 : 0.04408516455919584\n",
      "b2 : -0.05167057230683946\n",
      "\n",
      "Epoch : 20/35\n",
      "\n",
      "Epoch 20 Completed\n",
      "b0 : -0.5766214927117672\n",
      "b1 : 0.05232642342410587\n",
      "b2 : -0.05888866808345699\n",
      "\n",
      "Epoch : 21/35\n",
      "\n",
      "Epoch 21 Completed\n",
      "b0 : -0.581886460149364\n",
      "b1 : 0.060624706780419174\n",
      "b2 : -0.06628621393013398\n",
      "\n",
      "Epoch : 22/35\n",
      "\n",
      "Epoch 22 Completed\n",
      "b0 : -0.5865222757728803\n",
      "b1 : 0.06897321521887904\n",
      "b2 : -0.07384168510508946\n",
      "\n",
      "Epoch : 23/35\n",
      "\n",
      "Epoch 23 Completed\n",
      "b0 : -0.5906044359089971\n",
      "b1 : 0.07736596015359772\n",
      "b2 : -0.08153615508050976\n",
      "\n",
      "Epoch : 24/35\n",
      "\n",
      "Epoch 24 Completed\n",
      "b0 : -0.5941993107922022\n",
      "b1 : 0.08579766750297492\n",
      "b2 : -0.08935297893183278\n",
      "\n",
      "Epoch : 25/35\n",
      "\n",
      "Epoch 25 Completed\n",
      "b0 : -0.5973652615375217\n",
      "b1 : 0.09426369260443976\n",
      "b2 : -0.09727751576146579\n",
      "\n",
      "Epoch : 26/35\n",
      "\n",
      "Epoch 26 Completed\n",
      "b0 : -0.6001536176830523\n",
      "b1 : 0.10275994514015771\n",
      "b2 : -0.10529688531072899\n",
      "\n",
      "Epoch : 27/35\n",
      "\n",
      "Epoch 27 Completed\n",
      "b0 : -0.6026095331985576\n",
      "b1 : 0.11128282295038652\n",
      "b2 : -0.11339975450186827\n",
      "\n",
      "Epoch : 28/35\n",
      "\n",
      "Epoch 28 Completed\n",
      "b0 : -0.6047727364860181\n",
      "b1 : 0.11982915371579089\n",
      "b2 : -0.12157615017841958\n",
      "\n",
      "Epoch : 29/35\n",
      "\n",
      "Epoch 29 Completed\n",
      "b0 : -0.6066781878469675\n",
      "b1 : 0.12839614359318513\n",
      "b2 : -0.12981729477897294\n",
      "\n",
      "Epoch : 30/35\n",
      "\n",
      "Epoch 30 Completed\n",
      "b0 : -0.6083566561187231\n",
      "b1 : 0.13698133198712556\n",
      "b2 : -0.13811546209052572\n",
      "\n",
      "Epoch : 31/35\n",
      "\n",
      "Epoch 31 Completed\n",
      "b0 : -0.6098352246500945\n",
      "b1 : 0.14558255173058796\n",
      "b2 : -0.14646385058814715\n",
      "\n",
      "Epoch : 32/35\n",
      "\n",
      "Epoch 32 Completed\n",
      "b0 : -0.6111377354638249\n",
      "b1 : 0.15419789403080547\n",
      "b2 : -0.1548564721829097\n",
      "\n",
      "Epoch : 33/35\n",
      "\n",
      "Epoch 33 Completed\n",
      "b0 : -0.6122851793089664\n",
      "b1 : 0.16282567761108335\n",
      "b2 : -0.1632880544751642\n",
      "\n",
      "Epoch : 34/35\n",
      "\n",
      "Epoch 34 Completed\n",
      "b0 : -0.6132960383165408\n",
      "b1 : 0.17146442154629996\n",
      "b2 : -0.1717539548500866\n",
      "\n",
      "Epoch : 35/35\n",
      "\n",
      "Epoch 35 Completed\n",
      "b0 : -0.6141865871145784\n",
      "b1 : 0.18011282134936651\n",
      "b2 : -0.18025008496145106\n",
      "\n"
     ]
    }
   ],
   "source": [
    "logistic(X_train, y_train, epoch = 35)"
   ]
  },
  {
   "cell_type": "code",
   "execution_count": 19,
   "metadata": {
    "scrolled": true
   },
   "outputs": [
    {
     "data": {
      "text/plain": [
       "[0.5040108067882663,\n",
       " 0.41045861428234676,\n",
       " 0.553300880686744,\n",
       " 0.48149495140958565,\n",
       " 0.4995012092695477,\n",
       " 0.3974461970990576,\n",
       " 0.4501398797509251,\n",
       " 0.47248123815880755,\n",
       " 0.48149495140958565,\n",
       " 0.4680319954442798,\n",
       " 0.48597583734089306,\n",
       " 0.4061139584352682,\n",
       " 0.39745277157013437,\n",
       " 0.41046525737269257,\n",
       " 0.40177075211321983,\n",
       " 0.48598955291401325,\n",
       " 0.5084785846490271,\n",
       " 0.47252229269167473,\n",
       " 0.4905001429896244,\n",
       " 0.4994737565759822,\n",
       " 0.41046193582343743,\n",
       " 0.48598269512481423,\n",
       " 0.40176745297282146,\n",
       " 0.5039799244475756,\n",
       " 0.5443916315989192,\n",
       " 0.47697252374965105,\n",
       " 0.5264796086047769,\n",
       " 0.5084751540450645,\n",
       " 0.39744948432996874,\n",
       " 0.41046193582343743,\n",
       " 0.3845869463086739,\n",
       " 0.3974461970990576,\n",
       " 0.48149837830034664,\n",
       " 0.41046193582343743,\n",
       " 0.39745277157013437,\n",
       " 0.48597926623219373,\n",
       " 0.48149495140958565,\n",
       " 0.4061106478414624]"
      ]
     },
     "execution_count": 19,
     "metadata": {},
     "output_type": "execute_result"
    }
   ],
   "source": [
    "predict(X_test, b0, b1, b2)"
   ]
  },
  {
   "cell_type": "code",
   "execution_count": 20,
   "metadata": {},
   "outputs": [
    {
     "data": {
      "text/plain": [
       "81.57894736842105"
      ]
     },
     "execution_count": 20,
     "metadata": {},
     "output_type": "execute_result"
    }
   ],
   "source": [
    "crisp_logistic()\n",
    "pred_score(y_test, pred_list)"
   ]
  },
  {
   "cell_type": "code",
   "execution_count": null,
   "metadata": {},
   "outputs": [],
   "source": []
  }
 ],
 "metadata": {
  "kernelspec": {
   "display_name": "Python 3",
   "language": "python",
   "name": "python3"
  },
  "language_info": {
   "codemirror_mode": {
    "name": "ipython",
    "version": 3
   },
   "file_extension": ".py",
   "mimetype": "text/x-python",
   "name": "python",
   "nbconvert_exporter": "python",
   "pygments_lexer": "ipython3",
   "version": "3.8.5"
  }
 },
 "nbformat": 4,
 "nbformat_minor": 4
}
